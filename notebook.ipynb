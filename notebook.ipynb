{
  "cells": [
    {
      "cell_type": "markdown",
      "metadata": {
        "id": "H9wADwK78DCz"
      },
      "source": [
        "# Proyek Analisis Data: Bike Sharing Dataset\n",
        "- **Nama:** Muhammad Naufal Zaky Alsar\n",
        "- **Email:** m010d4ky3264@bangkit.academy\n",
        "- **ID Dicoding:** M010D4KY3264"
      ]
    },
    {
      "cell_type": "markdown",
      "metadata": {
        "id": "eE0raob58DC0"
      },
      "source": [
        "## Menentukan Pertanyaan Bisnis"
      ]
    },
    {
      "cell_type": "markdown",
      "metadata": {
        "id": "GmQeQ5YF8DC0"
      },
      "source": [
        "1. Urutan musim yang paling berpengaruh terhadap peminjaman sepeda\n",
        "2. Urutan cuaca yang paling berpengaruh terhadap peminjaman sepeda\n",
        "3. Tren peminjaman sepeda\n",
        "4. Rentang jam yang paling sering digunakan untuk meminjam sepeda\n",
        "5. Rentang temperature yang paling sering digunakan untuk meminjam sepeda"
      ]
    },
    {
      "cell_type": "markdown",
      "metadata": {
        "id": "H-z4QGlO8DC1"
      },
      "source": [
        "## Import Semua Packages/Library yang Digunakan"
      ]
    },
    {
      "cell_type": "code",
      "execution_count": 1,
      "metadata": {
        "id": "FVYwaObI8DC1"
      },
      "outputs": [],
      "source": [
        "import numpy as np\n",
        "import pandas as pd\n",
        "import seaborn as sns\n",
        "import matplotlib.pyplot as plt"
      ]
    },
    {
      "cell_type": "markdown",
      "metadata": {
        "id": "h_Sh51Xy8DC1"
      },
      "source": [
        "## Data Wrangling"
      ]
    },
    {
      "cell_type": "markdown",
      "metadata": {
        "id": "sXU2GBYu8DC1"
      },
      "source": [
        "### Gathering Data"
      ]
    },
    {
      "cell_type": "markdown",
      "source": [
        "Saya akan menggunakan data hour karena terdapat pertanyaan yang menggunakan jam"
      ],
      "metadata": {
        "id": "rRomBJH7HQVH"
      }
    },
    {
      "cell_type": "code",
      "execution_count": 3,
      "metadata": {
        "id": "zjCBk1BI8DC1"
      },
      "outputs": [],
      "source": [
        "df = pd.read_csv(\"hour.csv\")"
      ]
    },
    {
      "cell_type": "markdown",
      "metadata": {
        "id": "FHSiqaZp8DC1"
      },
      "source": [
        "### Assessing Data"
      ]
    },
    {
      "cell_type": "markdown",
      "source": [
        "Menangani missing value"
      ],
      "metadata": {
        "id": "nLYHD-zVHU56"
      }
    },
    {
      "cell_type": "code",
      "source": [
        "df.info()"
      ],
      "metadata": {
        "id": "ax-3tEjc9Cj1",
        "colab": {
          "base_uri": "https://localhost:8080/"
        },
        "outputId": "bbb0d750-3586-43e1-b67c-bfcfb33f5719"
      },
      "execution_count": 4,
      "outputs": [
        {
          "output_type": "stream",
          "name": "stdout",
          "text": [
            "<class 'pandas.core.frame.DataFrame'>\n",
            "RangeIndex: 17379 entries, 0 to 17378\n",
            "Data columns (total 17 columns):\n",
            " #   Column      Non-Null Count  Dtype  \n",
            "---  ------      --------------  -----  \n",
            " 0   instant     17379 non-null  int64  \n",
            " 1   dteday      17379 non-null  object \n",
            " 2   season      17379 non-null  int64  \n",
            " 3   yr          17379 non-null  int64  \n",
            " 4   mnth        17379 non-null  int64  \n",
            " 5   hr          17379 non-null  int64  \n",
            " 6   holiday     17379 non-null  int64  \n",
            " 7   weekday     17379 non-null  int64  \n",
            " 8   workingday  17379 non-null  int64  \n",
            " 9   weathersit  17379 non-null  int64  \n",
            " 10  temp        17379 non-null  float64\n",
            " 11  atemp       17379 non-null  float64\n",
            " 12  hum         17379 non-null  float64\n",
            " 13  windspeed   17379 non-null  float64\n",
            " 14  casual      17379 non-null  int64  \n",
            " 15  registered  17379 non-null  int64  \n",
            " 16  cnt         17379 non-null  int64  \n",
            "dtypes: float64(4), int64(12), object(1)\n",
            "memory usage: 2.3+ MB\n"
          ]
        }
      ]
    },
    {
      "cell_type": "markdown",
      "source": [
        "Jika dilihat pada informasi diatas, tidak terdapat missing value sehingga dapat dilanjutkan ke tahapan selanjutnya"
      ],
      "metadata": {
        "id": "4ZTxqt1qH0NA"
      }
    },
    {
      "cell_type": "markdown",
      "source": [
        "Menangani data duplikat"
      ],
      "metadata": {
        "id": "5kjAIkNxH9YH"
      }
    },
    {
      "cell_type": "code",
      "source": [
        "df.duplicated().sum()"
      ],
      "metadata": {
        "colab": {
          "base_uri": "https://localhost:8080/"
        },
        "id": "oegHqvNQH5Bn",
        "outputId": "acd8467a-8c6c-4201-ea16-63674e14e9f6"
      },
      "execution_count": 6,
      "outputs": [
        {
          "output_type": "execute_result",
          "data": {
            "text/plain": [
              "0"
            ]
          },
          "metadata": {},
          "execution_count": 6
        }
      ]
    },
    {
      "cell_type": "markdown",
      "source": [
        "Jika dilihat pada informasi diatas, tidak terdapat data yang terduplikat sehingga dapat dilanjutkan ke tahapan selanjutnya"
      ],
      "metadata": {
        "id": "-uF4790WICFJ"
      }
    },
    {
      "cell_type": "markdown",
      "source": [
        "Menangani incosistent value"
      ],
      "metadata": {
        "id": "4NqMFNDsIgVc"
      }
    },
    {
      "cell_type": "code",
      "source": [
        "min_values = df.min()\n",
        "max_values = df.max()\n",
        "\n",
        "print(\"Minimum values in each column:\")\n",
        "print(min_values)\n",
        "\n",
        "print(\"\\nMaximum values in each column:\")\n",
        "print(max_values)"
      ],
      "metadata": {
        "colab": {
          "base_uri": "https://localhost:8080/"
        },
        "id": "BK7miuXIII5B",
        "outputId": "e952edfe-d8ed-4299-ff1c-af0a813c1aa9"
      },
      "execution_count": 7,
      "outputs": [
        {
          "output_type": "stream",
          "name": "stdout",
          "text": [
            "Minimum values in each column:\n",
            "instant                1\n",
            "dteday        2011-01-01\n",
            "season                 1\n",
            "yr                     0\n",
            "mnth                   1\n",
            "hr                     0\n",
            "holiday                0\n",
            "weekday                0\n",
            "workingday             0\n",
            "weathersit             1\n",
            "temp                0.02\n",
            "atemp                0.0\n",
            "hum                  0.0\n",
            "windspeed            0.0\n",
            "casual                 0\n",
            "registered             0\n",
            "cnt                    1\n",
            "dtype: object\n",
            "\n",
            "Maximum values in each column:\n",
            "instant            17379\n",
            "dteday        2012-12-31\n",
            "season                 4\n",
            "yr                     1\n",
            "mnth                  12\n",
            "hr                    23\n",
            "holiday                1\n",
            "weekday                6\n",
            "workingday             1\n",
            "weathersit             4\n",
            "temp                 1.0\n",
            "atemp                1.0\n",
            "hum                  1.0\n",
            "windspeed         0.8507\n",
            "casual               367\n",
            "registered           886\n",
            "cnt                  977\n",
            "dtype: object\n"
          ]
        }
      ]
    },
    {
      "cell_type": "code",
      "source": [
        "df.info()"
      ],
      "metadata": {
        "colab": {
          "base_uri": "https://localhost:8080/"
        },
        "id": "17exXCTdJN7z",
        "outputId": "cb5c7329-a171-496d-fc9c-e8413b0da7ae"
      },
      "execution_count": 8,
      "outputs": [
        {
          "output_type": "stream",
          "name": "stdout",
          "text": [
            "<class 'pandas.core.frame.DataFrame'>\n",
            "RangeIndex: 17379 entries, 0 to 17378\n",
            "Data columns (total 17 columns):\n",
            " #   Column      Non-Null Count  Dtype  \n",
            "---  ------      --------------  -----  \n",
            " 0   instant     17379 non-null  int64  \n",
            " 1   dteday      17379 non-null  object \n",
            " 2   season      17379 non-null  int64  \n",
            " 3   yr          17379 non-null  int64  \n",
            " 4   mnth        17379 non-null  int64  \n",
            " 5   hr          17379 non-null  int64  \n",
            " 6   holiday     17379 non-null  int64  \n",
            " 7   weekday     17379 non-null  int64  \n",
            " 8   workingday  17379 non-null  int64  \n",
            " 9   weathersit  17379 non-null  int64  \n",
            " 10  temp        17379 non-null  float64\n",
            " 11  atemp       17379 non-null  float64\n",
            " 12  hum         17379 non-null  float64\n",
            " 13  windspeed   17379 non-null  float64\n",
            " 14  casual      17379 non-null  int64  \n",
            " 15  registered  17379 non-null  int64  \n",
            " 16  cnt         17379 non-null  int64  \n",
            "dtypes: float64(4), int64(12), object(1)\n",
            "memory usage: 2.3+ MB\n"
          ]
        }
      ]
    },
    {
      "cell_type": "markdown",
      "source": [
        "Jika dilihat diatas, data-data sudah konsisten karena berada pada ambas batas yang sesuai dengan metadata dan juga semua tipe data sudah sesuai dengan metadata"
      ],
      "metadata": {
        "id": "OMpbrwAsI9Gu"
      }
    },
    {
      "cell_type": "markdown",
      "source": [
        "Menangani outlier"
      ],
      "metadata": {
        "id": "pCFV0iTWJoil"
      }
    },
    {
      "cell_type": "code",
      "source": [
        "def count_outliers_iqr_all_columns(df):\n",
        "    outlier_counts = {}\n",
        "    for column in df.columns:\n",
        "        Q1 = df[column].quantile(0.25)\n",
        "        Q3 = df[column].quantile(0.75)\n",
        "        IQR = Q3 - Q1\n",
        "        lower_bound = Q1 - 1.5 * IQR\n",
        "        upper_bound = Q3 + 1.5 * IQR\n",
        "        outliers = df[(df[column] < lower_bound) | (df[column] > upper_bound)]\n",
        "        outlier_counts[column] = outliers.shape[0]\n",
        "    return outlier_counts\n",
        "\n",
        "# Example usage:\n",
        "outlier_counts = count_outliers_iqr_all_columns(df.drop(['dteday'],axis=1))\n",
        "print(\"Number of outliers for each column:\")\n",
        "print(outlier_counts)"
      ],
      "metadata": {
        "colab": {
          "base_uri": "https://localhost:8080/"
        },
        "id": "Tb-kKDucNIwj",
        "outputId": "9371148d-1abc-4152-ed7e-155b06088a84"
      },
      "execution_count": 30,
      "outputs": [
        {
          "output_type": "stream",
          "name": "stdout",
          "text": [
            "Number of outliers for each column:\n",
            "{'instant': 0, 'season': 0, 'yr': 0, 'mnth': 0, 'hr': 0, 'holiday': 500, 'weekday': 0, 'workingday': 0, 'weathersit': 3, 'temp': 0, 'atemp': 0, 'hum': 22, 'windspeed': 342, 'casual': 1192, 'registered': 680, 'cnt': 505}\n"
          ]
        }
      ]
    },
    {
      "cell_type": "markdown",
      "source": [
        "Berdasarkan rentang data setiap kolom diatas, dapat dilihat bahwa jikapun terdapat outlier pada kolom2 tersebut, outlier tersebut masih merupakan natural outlier. Sehingga, tidak perlu untuk ditangani."
      ],
      "metadata": {
        "id": "lBfJO5kCMYcJ"
      }
    },
    {
      "cell_type": "markdown",
      "metadata": {
        "id": "EhN5R4hr8DC1"
      },
      "source": [
        "### Cleaning Data"
      ]
    },
    {
      "cell_type": "markdown",
      "source": [
        "Berdasarkan assessing data diatas, kita tidak perlu melakukan cleaning data karena tidak terdapat missing data, duplicate data, dan outlier data."
      ],
      "metadata": {
        "id": "aeLPyHJwMl5e"
      }
    },
    {
      "cell_type": "markdown",
      "metadata": {
        "id": "gp-Y6wU38DC1"
      },
      "source": [
        "## Exploratory Data Analysis (EDA)"
      ]
    },
    {
      "cell_type": "markdown",
      "metadata": {
        "id": "MW7WF2kr8DC1"
      },
      "source": [
        "### Pertanyaan 1:"
      ]
    },
    {
      "cell_type": "code",
      "execution_count": 51,
      "metadata": {
        "id": "e9CQCZjk8DC2",
        "colab": {
          "base_uri": "https://localhost:8080/"
        },
        "outputId": "95a97c3a-b959-404b-e457-e1f59e056408"
      },
      "outputs": [
        {
          "output_type": "stream",
          "name": "stdout",
          "text": [
            "   season         cnt\n",
            "2       3  236.016237\n",
            "1       2  208.344069\n",
            "3       4  198.868856\n",
            "0       1  111.114569\n"
          ]
        }
      ],
      "source": [
        "musim_count_df = df.groupby('season')['cnt'].mean().to_frame().reset_index()\n",
        "\n",
        "print(musim_count_df.sort_values(by=\"cnt\", ascending=False))"
      ]
    },
    {
      "cell_type": "markdown",
      "source": [
        " Kode diatas berguna untuk mengelompokkan berdasarkan season untuk menghitung rata-rata jumlah peminjaman sepeda per-season"
      ],
      "metadata": {
        "id": "b4xX7VAiSzIb"
      }
    },
    {
      "cell_type": "markdown",
      "source": [
        "### Pertanyaan 2:"
      ],
      "metadata": {
        "id": "3dXIVh39Qdb4"
      }
    },
    {
      "cell_type": "code",
      "source": [
        "cuaca_count_df = df.groupby('weathersit')['cnt'].mean().to_frame().reset_index()\n",
        "\n",
        "print(cuaca_count_df.sort_values(by=\"cnt\", ascending=False))"
      ],
      "metadata": {
        "colab": {
          "base_uri": "https://localhost:8080/"
        },
        "id": "OUUAtbmMQgHQ",
        "outputId": "9bf255f7-3893-443d-9b63-0ef160e54f34"
      },
      "execution_count": 52,
      "outputs": [
        {
          "output_type": "stream",
          "name": "stdout",
          "text": [
            "   weathersit         cnt\n",
            "0           1  204.869272\n",
            "1           2  175.165493\n",
            "2           3  111.579281\n",
            "3           4   74.333333\n"
          ]
        }
      ]
    },
    {
      "cell_type": "markdown",
      "source": [
        " Kode diatas berguna untuk mengelompokkan berdasarkan cuaca untuk menghitung rata-rata jumlah peminjaman sepeda berdasarkan cuaca"
      ],
      "metadata": {
        "id": "Nw8REZi2TDyE"
      }
    },
    {
      "cell_type": "markdown",
      "source": [
        "### Pertanyaan 3:"
      ],
      "metadata": {
        "id": "CoTl5ysAQoxF"
      }
    },
    {
      "cell_type": "code",
      "source": [
        "perhari_df = df.groupby('dteday')['cnt'].sum().to_frame().reset_index()\n",
        "\n",
        "perhari_df['dteday'] = pd.to_datetime(perhari_df['dteday'], format='%Y-%m-%d')\n",
        "\n",
        "print(perhari_df)"
      ],
      "metadata": {
        "colab": {
          "base_uri": "https://localhost:8080/"
        },
        "id": "o13Vot_HQtWO",
        "outputId": "e7c9b01a-25c4-4e64-db1e-555dc09254db"
      },
      "execution_count": 66,
      "outputs": [
        {
          "output_type": "stream",
          "name": "stdout",
          "text": [
            "        dteday   cnt\n",
            "0   2011-01-01   985\n",
            "1   2011-01-02   801\n",
            "2   2011-01-03  1349\n",
            "3   2011-01-04  1562\n",
            "4   2011-01-05  1600\n",
            "..         ...   ...\n",
            "726 2012-12-27  2114\n",
            "727 2012-12-28  3095\n",
            "728 2012-12-29  1341\n",
            "729 2012-12-30  1796\n",
            "730 2012-12-31  2729\n",
            "\n",
            "[731 rows x 2 columns]\n"
          ]
        }
      ]
    },
    {
      "cell_type": "markdown",
      "source": [
        "Kode diatas berguna untuk mengelompokkan jumlah peminjaman sepeda perhari"
      ],
      "metadata": {
        "id": "7yRMjGqCTJe_"
      }
    },
    {
      "cell_type": "markdown",
      "source": [
        "### Pertanyaan 4:"
      ],
      "metadata": {
        "id": "7eMMJ6G0SIaU"
      }
    },
    {
      "cell_type": "code",
      "source": [
        "jam_count_df = df.groupby('hr')['cnt'].mean().to_frame().reset_index()\n",
        "\n",
        "print(jam_count_df)"
      ],
      "metadata": {
        "colab": {
          "base_uri": "https://localhost:8080/"
        },
        "id": "BVmkrUo5SJ5n",
        "outputId": "04c93b22-c52d-4fa4-c6fa-517372779077"
      },
      "execution_count": 57,
      "outputs": [
        {
          "output_type": "stream",
          "name": "stdout",
          "text": [
            "    hr         cnt\n",
            "0    0   53.898072\n",
            "1    1   33.375691\n",
            "2    2   22.869930\n",
            "3    3   11.727403\n",
            "4    4    6.352941\n",
            "5    5   19.889819\n",
            "6    6   76.044138\n",
            "7    7  212.064649\n",
            "8    8  359.011004\n",
            "9    9  219.309491\n",
            "10  10  173.668501\n",
            "11  11  208.143054\n",
            "12  12  253.315934\n",
            "13  13  253.661180\n",
            "14  14  240.949246\n",
            "15  15  251.233196\n",
            "16  16  311.983562\n",
            "17  17  461.452055\n",
            "18  18  425.510989\n",
            "19  19  311.523352\n",
            "20  20  226.030220\n",
            "21  21  172.314560\n",
            "22  22  131.335165\n",
            "23  23   87.831044\n"
          ]
        }
      ]
    },
    {
      "cell_type": "markdown",
      "source": [
        " Kode diatas berguna untuk mengelompokkan berdasarkan jam untuk menghitung rata-rata jumlah peminjaman sepeda perjam"
      ],
      "metadata": {
        "id": "njrcqSotTPRi"
      }
    },
    {
      "cell_type": "markdown",
      "source": [
        "### Pertanyaan 5:"
      ],
      "metadata": {
        "id": "_Io8ij4sSgJ-"
      }
    },
    {
      "cell_type": "code",
      "source": [
        "atemp_count_df = df.groupby('atemp')['cnt'].mean().to_frame().reset_index()\n",
        "\n",
        "print(atemp_count_df)"
      ],
      "metadata": {
        "colab": {
          "base_uri": "https://localhost:8080/"
        },
        "id": "6-Wn5Jl4ShiC",
        "outputId": "aeea7f4a-a016-42c6-f8d8-9c6ed7de1b9e"
      },
      "execution_count": 58,
      "outputs": [
        {
          "output_type": "stream",
          "name": "stdout",
          "text": [
            "     atemp         cnt\n",
            "0   0.0000   19.500000\n",
            "1   0.0152    3.250000\n",
            "2   0.0303   13.875000\n",
            "3   0.0455   32.666667\n",
            "4   0.0606   49.000000\n",
            "..     ...         ...\n",
            "60  0.9091  308.000000\n",
            "61  0.9242  256.200000\n",
            "62  0.9545  115.000000\n",
            "63  0.9848  128.000000\n",
            "64  1.0000  101.000000\n",
            "\n",
            "[65 rows x 2 columns]\n"
          ]
        }
      ]
    },
    {
      "cell_type": "markdown",
      "source": [
        " Kode diatas berguna untuk mengelompokkan berdasarkan atemp untuk menghitung rata-rata jumlah peminjaman sepeda berdasarkan temperatur yang dirasakan"
      ],
      "metadata": {
        "id": "CO0_Jwx3TWh6"
      }
    },
    {
      "cell_type": "markdown",
      "metadata": {
        "id": "zsyZjqak8DC2"
      },
      "source": [
        "## Visualization & Explanatory Analysis"
      ]
    },
    {
      "cell_type": "markdown",
      "metadata": {
        "id": "HZxOiQ6n8DC2"
      },
      "source": [
        "### Pertanyaan 1:"
      ]
    },
    {
      "cell_type": "code",
      "execution_count": 62,
      "metadata": {
        "id": "1swJUdAD8DC2",
        "colab": {
          "base_uri": "https://localhost:8080/",
          "height": 467
        },
        "outputId": "531e3465-e6cf-4b94-d0a5-157f71785dcd"
      },
      "outputs": [
        {
          "output_type": "display_data",
          "data": {
            "text/plain": [
              "<Figure size 640x480 with 1 Axes>"
            ],
            "image/png": "[encoded data removed]"
          },
          "metadata": {}
        }
      ],
      "source": [
        "musim_count_df.plot(x='season', y='cnt', kind='bar', legend=False)\n",
        "plt.xlabel('Season')\n",
        "plt.ylabel('Mean Count')\n",
        "plt.title('Mean Count by Season')\n",
        "plt.show()"
      ]
    },
    {
      "cell_type": "markdown",
      "source": [
        "Kode diatas berguna untuk menampilkan season dan rata-rata peminjaman sepedanya. Jika dilihat, 3 merupakan season yang paling banyak dalam hal peminjaman sepeda, lalu 2, lalu 4, lalu 1."
      ],
      "metadata": {
        "id": "7bE6JNA-W4Q_"
      }
    },
    {
      "cell_type": "markdown",
      "metadata": {
        "id": "DgHI7CiU8DC2"
      },
      "source": [
        "### Pertanyaan 2:"
      ]
    },
    {
      "cell_type": "code",
      "execution_count": 63,
      "metadata": {
        "id": "Go0lCsvO8DC2",
        "colab": {
          "base_uri": "https://localhost:8080/",
          "height": 467
        },
        "outputId": "a91d921f-4090-4139-c1b8-dfba1d3b360f"
      },
      "outputs": [
        {
          "output_type": "display_data",
          "data": {
            "text/plain": [
              "<Figure size 640x480 with 1 Axes>"
            ],
            "image/png": "[encoded data removed]"
          },
          "metadata": {}
        }
      ],
      "source": [
        "cuaca_count_df.plot(x='weathersit', y='cnt', kind='bar', legend=False)\n",
        "plt.xlabel('Weather Situation')\n",
        "plt.ylabel('Mean Count')\n",
        "plt.title('Mean Count by Weather Situation')\n",
        "plt.show()"
      ]
    },
    {
      "cell_type": "markdown",
      "source": [
        "Kode diatas berguna untuk menampilkan situasi cuaca dengan rata-rata peminjaman sepedanya. Jika dilihat, weather situation paling banyak dirental sepedanya adalah weather situation 1 lalu 2 lalu 3 lalu 4."
      ],
      "metadata": {
        "id": "h7hc4YPaXbDq"
      }
    },
    {
      "cell_type": "markdown",
      "source": [
        "### Pertanyaan 3:"
      ],
      "metadata": {
        "id": "VZkgvPK5XmWO"
      }
    },
    {
      "cell_type": "code",
      "source": [
        "plt.plot(perhari_df['dteday'], perhari_df['cnt'])\n",
        "plt.xlabel('Date')\n",
        "plt.ylabel('Count')\n",
        "plt.title('Count Trend Over Time')\n",
        "plt.xticks(rotation=45)\n",
        "plt.tight_layout()\n",
        "plt.show()"
      ],
      "metadata": {
        "colab": {
          "base_uri": "https://localhost:8080/",
          "height": 487
        },
        "id": "UBB4vK7ZXqMH",
        "outputId": "53002469-ebaf-49fc-9a29-d9409a91e9ec"
      },
      "execution_count": 68,
      "outputs": [
        {
          "output_type": "display_data",
          "data": {
            "text/plain": [
              "<Figure size 640x480 with 1 Axes>"
            ],
            "image/png": "[encoded data removed]"
          },
          "metadata": {}
        }
      ]
    },
    {
      "cell_type": "markdown",
      "source": [
        "Kode diatas berguna untuk menampilkan line graph dari rental sepeda"
      ],
      "metadata": {
        "id": "ey3DwRMHX0NF"
      }
    },
    {
      "cell_type": "markdown",
      "source": [
        "### Pertanyaan 4:"
      ],
      "metadata": {
        "id": "tTolNduEZLWq"
      }
    },
    {
      "cell_type": "code",
      "source": [
        "plt.bar(jam_count_df['hr'], jam_count_df['cnt'])\n",
        "plt.xlabel('Hour of the Day')\n",
        "plt.ylabel('Count')\n",
        "plt.title('Count by Hour of the Day')\n",
        "plt.xticks(jam_count_df['hr'])\n",
        "plt.tight_layout()\n",
        "plt.show()"
      ],
      "metadata": {
        "colab": {
          "base_uri": "https://localhost:8080/",
          "height": 487
        },
        "id": "JL9bS6uMZNOY",
        "outputId": "3c4dfd84-dcb1-477d-e8af-62e382f9559d"
      },
      "execution_count": 69,
      "outputs": [
        {
          "output_type": "display_data",
          "data": {
            "text/plain": [
              "<Figure size 640x480 with 1 Axes>"
            ],
            "image/png": "[encoded data removed]"
          },
          "metadata": {}
        }
      ]
    },
    {
      "cell_type": "markdown",
      "source": [
        "Kode diatas berguna untuk menampilkan jam dan rata-rata peminjaman sepeda berdasarkan jamnya. Jika dilihat, jam 8 pagi, jam 5 sore memiliki peminjaman sepeda yang tinggi."
      ],
      "metadata": {
        "id": "YEA-Wf65ZmkX"
      }
    },
    {
      "cell_type": "markdown",
      "source": [
        "### Pertanyaan 5:"
      ],
      "metadata": {
        "id": "WDFxHRoIZ5BJ"
      }
    },
    {
      "cell_type": "code",
      "source": [
        "plt.plot(atemp_count_df['atemp'], atemp_count_df['cnt'], marker='o', color='skyblue', linestyle='-')\n",
        "plt.xlabel('Apparent Temperature')\n",
        "plt.ylabel('Count')\n",
        "plt.title('Continuous Bar Graph of Count by Apparent Temperature')\n",
        "plt.grid(True)\n",
        "plt.show()"
      ],
      "metadata": {
        "colab": {
          "base_uri": "https://localhost:8080/",
          "height": 472
        },
        "id": "Ou7ucpESaCyD",
        "outputId": "ab460657-512c-42bf-d641-6bd12a505e3f"
      },
      "execution_count": 71,
      "outputs": [
        {
          "output_type": "display_data",
          "data": {
            "text/plain": [
              "<Figure size 640x480 with 1 Axes>"
            ],
            "image/png": "[encoded data removed]"
          },
          "metadata": {}
        }
      ]
    },
    {
      "cell_type": "markdown",
      "source": [
        "Kode diatas berguna untuk menampilkan data rata-rata peminjaman sepeda berdasarkan temperatur yang dirasakan. Jika dilihat, rentang 0.6 sampai 0.85 untuk temperatur merupakan rentang yang paling banyak dirental sepeda."
      ],
      "metadata": {
        "id": "8vqUDspKa9za"
      }
    },
    {
      "cell_type": "markdown",
      "metadata": {
        "id": "_WeHlCeX8DC2"
      },
      "source": [
        "## Conclusion"
      ]
    },
    {
      "cell_type": "markdown",
      "source": [
        "### Kesimpulan pertanyaan 1"
      ],
      "metadata": {
        "id": "VQV1lhLWbsZC"
      }
    },
    {
      "cell_type": "markdown",
      "source": [
        "Berdasarkan gambar sebelumnya, 3 merupakan season yang paling banyak dalam hal perentalan sepeda, lalu 2, lalu 4, lalu 1.\n",
        "\n",
        "3 Merupakan season yang paling banyak dirental sepedanya. Dimana season ini merupakan season fall.\n",
        "\n",
        "2 Merupakan season kedua paling banyak dirental sepedanya. Dimana season ini merupakan season summer.\n",
        "\n",
        "4 merupakan season ketiga paling banyak dirental sepedanya. Dimana season ini merupakan season winter.\n",
        "\n",
        "1 merupakan season yang paling sedikit dirental sepedanya. Dimana season ini merupakan season spring.\n",
        "\n",
        "Menurut saya, seharusnya winter dan summer merupakan season yang memiliki sepeda yang dirental sedikit karena temperatur yang ekstrim tetapi berdasarkan data ini, sepertinya dugaan saya dibantah. Untuk alasannya mungkin saja season-season tersebut memiliki daya tarik tersendiri untuk bersepeda atau pada season-season tersebut memiliki hari kerja yang lebih banyak."
      ],
      "metadata": {
        "id": "F-7ypDP2buTu"
      }
    },
    {
      "cell_type": "markdown",
      "source": [
        "### Kesimpulan pertanyaan 2"
      ],
      "metadata": {
        "id": "70QUSaZfeP9-"
      }
    },
    {
      "cell_type": "markdown",
      "source": [
        "Berdasarkan gambar sebelumnya, weather situation paling banyak dirental sepedanya adalah weather situation 1 lalu 2 lalu 3 lalu 4.\n",
        "\n",
        "Hal ini sudah sesuai dengan dugaan saya karena weather situation 1 merupakan cuaca yang paling mendukung untuk bersepeda karena tidak hujan sama sekali sedangkan weather situation 4 merupakan cuaca yang paling tidak mendukung untuk bersepeda karena cuacanya sedang hujan deras, salju, hujan es, dan badai."
      ],
      "metadata": {
        "id": "Opl6fyffeSAb"
      }
    },
    {
      "cell_type": "markdown",
      "source": [
        "### Kesimpulan pertanyaan 3"
      ],
      "metadata": {
        "id": "n2763Zwoe0M7"
      }
    },
    {
      "cell_type": "markdown",
      "source": [
        "  Jika dilihat pada gambar sebelumnya, terdapat hari dimana perentalan sepeda sangat sedikit. Dan juga bulan 4 sampai 10 merupakan bulan yang paling sering dirental sepeda. Tahun 2012 memiliki rental sepeda yang lebih banyak daripada rental 2011."
      ],
      "metadata": {
        "id": "xaWKe0ode3WU"
      }
    },
    {
      "cell_type": "markdown",
      "source": [
        "### Kesimpulan pertanyaan 4"
      ],
      "metadata": {
        "id": "yJSwzqqbfpaP"
      }
    },
    {
      "cell_type": "markdown",
      "source": [
        "Jika dilihat pada gambar sebelumnya, terdapat dua \"gunung\" yaitu pada sekitar jam 8 pagi dan sekitar jam 5 sore. Hal ini dapat terjadi karena pada waktu tersebut merupakan waktu masuk kerja dan waktu pulang kerja."
      ],
      "metadata": {
        "id": "IG698dXFf10Q"
      }
    },
    {
      "cell_type": "markdown",
      "source": [
        "### Kesimpulan pertanyaan 5"
      ],
      "metadata": {
        "id": "LhFQaR_SgFEQ"
      }
    },
    {
      "cell_type": "markdown",
      "source": [
        "Jika dilihat pada gambar sebelumnya, rentang 0.6 sampai 0.85 merupakan rentang yang paling banyak digunakan untuk bersepda berdasarkan temperatur yang dirasakan. Hal ini dapat dijelaskan karena temperatur tersebut merupakan temperatur yang pas dimana temperatur tersebut tidak terlalu tinggi dan tidak terlalu rendah."
      ],
      "metadata": {
        "id": "mPU3HAfMgHMA"
      }
    },
    {
      "cell_type": "markdown",
      "source": [
        "### Export data"
      ],
      "metadata": {
        "id": "qQoAa819uq-j"
      }
    },
    {
      "cell_type": "code",
      "source": [
        "df.to_csv(\"all_data.csv\", index=False)"
      ],
      "metadata": {
        "id": "sTTkecCllrsd"
      },
      "execution_count": 73,
      "outputs": []
    }
  ],
  "metadata": {
    "kernelspec": {
      "display_name": "Python 3",
      "language": "python",
      "name": "python3"
    },
    "language_info": {
      "name": "python",
      "version": "3.8.0 (tags/v3.8.0:fa919fd, Oct 14 2019, 19:21:23) [MSC v.1916 32 bit (Intel)]"
    },
    "orig_nbformat": 4,
    "vscode": {
      "interpreter": {
        "hash": "972b3bf27e332e87b5379f2791f6ef9dfc79c71018c370b0d7423235e20fe4d7"
      }
    },
    "colab": {
      "provenance": []
    }
  },
  "nbformat": 4,
  "nbformat_minor": 0
}